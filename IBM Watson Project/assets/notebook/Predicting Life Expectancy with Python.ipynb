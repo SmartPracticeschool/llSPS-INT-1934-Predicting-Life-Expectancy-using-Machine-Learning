{
 "cells": [
  {
   "cell_type": "code",
   "execution_count": null,
   "metadata": {
    "collapsed": true
   },
   "outputs": [],
   "source": []
  },
  {
   "cell_type": "markdown",
   "metadata": {},
   "source": [
    "# Predicting Life Expectancy Using Machine Learning"
   ]
  },
  {
   "cell_type": "markdown",
   "metadata": {},
   "source": [
    "The data-set aims to answer the following key questions:\n",
    "\n",
    "1) Does various predicting factors which has been chosen initially really affect the Life expectancy? What are the predicting variables actually affecting the life expectancy?\n",
    "\n",
    "2) Should a country having a lower life expectancy value(<65) increase its healthcare expenditure in order to improve its average lifespan?\n",
    "\n",
    "3) How does Infant and Adult mortality rates affect life expectancy?\n",
    "\n",
    "4) Does Life Expectancy has positive or negative correlation with eating habits, lifestyle, exercise, smoking, drinking alcohol etc.\n",
    "\n",
    "5) What is the impact of schooling on the lifespan of humans?\n",
    "\n",
    "6) Does Life Expectancy have positive or negative relationship with drinking alcohol?\n",
    "\n",
    "7) Do densely populated countries tend to have lower life expectancy?\n",
    "\n",
    "8) What is the impact of Immunization coverage on life Expectancy?\n"
   ]
  },
  {
   "cell_type": "markdown",
   "metadata": {},
   "source": [
    "## Table of Contents\n",
    "\n",
    "1. [Importing Libraries](#import_libraries)\n",
    "2. [Importing Dataset](#import_data)\n",
    "3. [Descriptive Analysis](#analysis)\n",
    "4. [Exploratory Data Analysis](#eda)\n",
    "5. [Data Preparation](#data_prepare)\n",
    "6. [Building Linear Regression Model](#lr_model)\n",
    "7. [Comparing Performance of Various Models](#models) \n",
    "8. [Comparing Performance of Various Models With Standard Scaler](#models_ss) \n",
    "9. [Comparing Performance of Various Models With MinMax Scaler](#models_ms)\n",
    "10. [Finalizing The Model](#finalize)\n",
    "11. [Saving The Model](#savem)\n",
    "12. [Deploying The Model And Creating Scoring Endpoint URL](#deploy)"
   ]
  },
  {
   "cell_type": "markdown",
   "metadata": {},
   "source": [
    "<a id=\"import_libraries\"></a>\n",
    "## Importing  Libraries"
   ]
  },
  {
   "cell_type": "code",
   "execution_count": 1,
   "metadata": {},
   "outputs": [],
   "source": [
    "import seaborn as sns\n",
    "import numpy as np\n",
    "import matplotlib.pyplot as plt\n",
    "from sklearn.preprocessing import LabelEncoder\n",
    "from sklearn.model_selection import train_test_split\n",
    "from sklearn.metrics import mean_squared_error,r2_score\n",
    "import warnings\n",
    "warnings.simplefilter(\"ignore\")"
   ]
  },
  {
   "cell_type": "markdown",
   "metadata": {},
   "source": [
    "<a id=\"import_data\"></a>\n",
    "## Importing Dataset"
   ]
  },
  {
   "cell_type": "code",
   "execution_count": 2,
   "metadata": {},
   "outputs": [
    {
     "data": {
      "text/html": [
       "<div>\n",
       "<style scoped>\n",
       "    .dataframe tbody tr th:only-of-type {\n",
       "        vertical-align: middle;\n",
       "    }\n",
       "\n",
       "    .dataframe tbody tr th {\n",
       "        vertical-align: top;\n",
       "    }\n",
       "\n",
       "    .dataframe thead th {\n",
       "        text-align: right;\n",
       "    }\n",
       "</style>\n",
       "<table border=\"1\" class=\"dataframe\">\n",
       "  <thead>\n",
       "    <tr style=\"text-align: right;\">\n",
       "      <th></th>\n",
       "      <th>Country</th>\n",
       "      <th>Year</th>\n",
       "      <th>Status</th>\n",
       "      <th>Life expectancy</th>\n",
       "      <th>Adult Mortality</th>\n",
       "      <th>infant deaths</th>\n",
       "      <th>Alcohol</th>\n",
       "      <th>percentage expenditure</th>\n",
       "      <th>Hepatitis B</th>\n",
       "      <th>Measles</th>\n",
       "      <th>...</th>\n",
       "      <th>Polio</th>\n",
       "      <th>Total expenditure</th>\n",
       "      <th>Diphtheria</th>\n",
       "      <th>HIV/AIDS</th>\n",
       "      <th>GDP</th>\n",
       "      <th>Population</th>\n",
       "      <th>thinness  1-19 years</th>\n",
       "      <th>thinness 5-9 years</th>\n",
       "      <th>Income composition of resources</th>\n",
       "      <th>Schooling</th>\n",
       "    </tr>\n",
       "  </thead>\n",
       "  <tbody>\n",
       "    <tr>\n",
       "      <th>0</th>\n",
       "      <td>Afghanistan</td>\n",
       "      <td>2015</td>\n",
       "      <td>Developing</td>\n",
       "      <td>65.0</td>\n",
       "      <td>263.0</td>\n",
       "      <td>62</td>\n",
       "      <td>0.01</td>\n",
       "      <td>71.279624</td>\n",
       "      <td>65.0</td>\n",
       "      <td>1154</td>\n",
       "      <td>...</td>\n",
       "      <td>6.0</td>\n",
       "      <td>8.16</td>\n",
       "      <td>65.0</td>\n",
       "      <td>0.1</td>\n",
       "      <td>584.259210</td>\n",
       "      <td>33736494.0</td>\n",
       "      <td>17.2</td>\n",
       "      <td>17.3</td>\n",
       "      <td>0.479</td>\n",
       "      <td>10.1</td>\n",
       "    </tr>\n",
       "    <tr>\n",
       "      <th>1</th>\n",
       "      <td>Afghanistan</td>\n",
       "      <td>2014</td>\n",
       "      <td>Developing</td>\n",
       "      <td>59.9</td>\n",
       "      <td>271.0</td>\n",
       "      <td>64</td>\n",
       "      <td>0.01</td>\n",
       "      <td>73.523582</td>\n",
       "      <td>62.0</td>\n",
       "      <td>492</td>\n",
       "      <td>...</td>\n",
       "      <td>58.0</td>\n",
       "      <td>8.18</td>\n",
       "      <td>62.0</td>\n",
       "      <td>0.1</td>\n",
       "      <td>612.696514</td>\n",
       "      <td>327582.0</td>\n",
       "      <td>17.5</td>\n",
       "      <td>17.5</td>\n",
       "      <td>0.476</td>\n",
       "      <td>10.0</td>\n",
       "    </tr>\n",
       "    <tr>\n",
       "      <th>2</th>\n",
       "      <td>Afghanistan</td>\n",
       "      <td>2013</td>\n",
       "      <td>Developing</td>\n",
       "      <td>59.9</td>\n",
       "      <td>268.0</td>\n",
       "      <td>66</td>\n",
       "      <td>0.01</td>\n",
       "      <td>73.219243</td>\n",
       "      <td>64.0</td>\n",
       "      <td>430</td>\n",
       "      <td>...</td>\n",
       "      <td>62.0</td>\n",
       "      <td>8.13</td>\n",
       "      <td>64.0</td>\n",
       "      <td>0.1</td>\n",
       "      <td>631.744976</td>\n",
       "      <td>31731688.0</td>\n",
       "      <td>17.7</td>\n",
       "      <td>17.7</td>\n",
       "      <td>0.470</td>\n",
       "      <td>9.9</td>\n",
       "    </tr>\n",
       "    <tr>\n",
       "      <th>3</th>\n",
       "      <td>Afghanistan</td>\n",
       "      <td>2012</td>\n",
       "      <td>Developing</td>\n",
       "      <td>59.5</td>\n",
       "      <td>272.0</td>\n",
       "      <td>69</td>\n",
       "      <td>0.01</td>\n",
       "      <td>78.184215</td>\n",
       "      <td>67.0</td>\n",
       "      <td>2787</td>\n",
       "      <td>...</td>\n",
       "      <td>67.0</td>\n",
       "      <td>8.52</td>\n",
       "      <td>67.0</td>\n",
       "      <td>0.1</td>\n",
       "      <td>669.959000</td>\n",
       "      <td>3696958.0</td>\n",
       "      <td>17.9</td>\n",
       "      <td>18.0</td>\n",
       "      <td>0.463</td>\n",
       "      <td>9.8</td>\n",
       "    </tr>\n",
       "    <tr>\n",
       "      <th>4</th>\n",
       "      <td>Afghanistan</td>\n",
       "      <td>2011</td>\n",
       "      <td>Developing</td>\n",
       "      <td>59.2</td>\n",
       "      <td>275.0</td>\n",
       "      <td>71</td>\n",
       "      <td>0.01</td>\n",
       "      <td>7.097109</td>\n",
       "      <td>68.0</td>\n",
       "      <td>3013</td>\n",
       "      <td>...</td>\n",
       "      <td>68.0</td>\n",
       "      <td>7.87</td>\n",
       "      <td>68.0</td>\n",
       "      <td>0.1</td>\n",
       "      <td>63.537231</td>\n",
       "      <td>2978599.0</td>\n",
       "      <td>18.2</td>\n",
       "      <td>18.2</td>\n",
       "      <td>0.454</td>\n",
       "      <td>9.5</td>\n",
       "    </tr>\n",
       "  </tbody>\n",
       "</table>\n",
       "<p>5 rows × 22 columns</p>\n",
       "</div>"
      ],
      "text/plain": [
       "       Country  Year      Status  Life expectancy   Adult Mortality  \\\n",
       "0  Afghanistan  2015  Developing              65.0            263.0   \n",
       "1  Afghanistan  2014  Developing              59.9            271.0   \n",
       "2  Afghanistan  2013  Developing              59.9            268.0   \n",
       "3  Afghanistan  2012  Developing              59.5            272.0   \n",
       "4  Afghanistan  2011  Developing              59.2            275.0   \n",
       "\n",
       "   infant deaths  Alcohol  percentage expenditure  Hepatitis B  Measles   ...  \\\n",
       "0             62     0.01               71.279624         65.0      1154  ...   \n",
       "1             64     0.01               73.523582         62.0       492  ...   \n",
       "2             66     0.01               73.219243         64.0       430  ...   \n",
       "3             69     0.01               78.184215         67.0      2787  ...   \n",
       "4             71     0.01                7.097109         68.0      3013  ...   \n",
       "\n",
       "   Polio  Total expenditure  Diphtheria    HIV/AIDS         GDP  Population  \\\n",
       "0    6.0               8.16         65.0        0.1  584.259210  33736494.0   \n",
       "1   58.0               8.18         62.0        0.1  612.696514    327582.0   \n",
       "2   62.0               8.13         64.0        0.1  631.744976  31731688.0   \n",
       "3   67.0               8.52         67.0        0.1  669.959000   3696958.0   \n",
       "4   68.0               7.87         68.0        0.1   63.537231   2978599.0   \n",
       "\n",
       "    thinness  1-19 years   thinness 5-9 years  \\\n",
       "0                   17.2                 17.3   \n",
       "1                   17.5                 17.5   \n",
       "2                   17.7                 17.7   \n",
       "3                   17.9                 18.0   \n",
       "4                   18.2                 18.2   \n",
       "\n",
       "   Income composition of resources  Schooling  \n",
       "0                            0.479       10.1  \n",
       "1                            0.476       10.0  \n",
       "2                            0.470        9.9  \n",
       "3                            0.463        9.8  \n",
       "4                            0.454        9.5  \n",
       "\n",
       "[5 rows x 22 columns]"
      ]
     },
     "execution_count": 2,
     "metadata": {},
     "output_type": "execute_result"
    }
   ],
   "source": [
    "import types\n",
    "import pandas as pd\n",
    "from botocore.client import Config\n",
    "import ibm_boto3\n",
    "\n",
    "def __iter__(self): return 0\n",
    "\n",
    "# @hidden_cell\n",
    "# The following code accesses a file in your IBM Cloud Object Storage. It includes your credentials.\n",
    "# You might want to remove those credentials before you share the notebook.\n",
    "client_0493a1cf48ad4f57ba0de471426b68ec = ibm_boto3.client(service_name='s3',\n",
    "    ibm_api_key_id='HgvJv4AvVIWJRp0R-4VMLQ7ExEduLYxgH3Klqpf9lUcQ',\n",
    "    ibm_auth_endpoint=\"https://iam.cloud.ibm.com/oidc/token\",\n",
    "    config=Config(signature_version='oauth'),\n",
    "    endpoint_url='https://s3.eu-geo.objectstorage.service.networklayer.com')\n",
    "\n",
    "body = client_0493a1cf48ad4f57ba0de471426b68ec.get_object(Bucket='predictinglifeexpectancyusingmach-donotdelete-pr-xad8rbrsp76tlp',Key='Life Expectancy Data.csv')['Body']\n",
    "# add missing __iter__ method, so pandas accepts body as file-like object\n",
    "if not hasattr(body, \"__iter__\"): body.__iter__ = types.MethodType( __iter__, body )\n",
    "\n",
    "df= pd.read_csv(body)\n",
    "df.head()\n"
   ]
  },
  {
   "cell_type": "markdown",
   "metadata": {},
   "source": [
    "Thus, there are total 22 columns out of which 2 are of String type, 11 are of Decimal type and remaining of Integer type. "
   ]
  },
  {
   "cell_type": "markdown",
   "metadata": {},
   "source": [
    "<a id=\"analysis\"></a>\n",
    "## Descriptive Analysis"
   ]
  },
  {
   "cell_type": "code",
   "execution_count": 3,
   "metadata": {},
   "outputs": [
    {
     "name": "stdout",
     "output_type": "stream",
     "text": [
      "<class 'pandas.core.frame.DataFrame'>\n",
      "RangeIndex: 2938 entries, 0 to 2937\n",
      "Data columns (total 22 columns):\n",
      "Country                            2938 non-null object\n",
      "Year                               2938 non-null int64\n",
      "Status                             2938 non-null object\n",
      "Life expectancy                    2928 non-null float64\n",
      "Adult Mortality                    2928 non-null float64\n",
      "infant deaths                      2938 non-null int64\n",
      "Alcohol                            2744 non-null float64\n",
      "percentage expenditure             2938 non-null float64\n",
      "Hepatitis B                        2385 non-null float64\n",
      "Measles                            2938 non-null int64\n",
      " BMI                               2904 non-null float64\n",
      "under-five deaths                  2938 non-null int64\n",
      "Polio                              2919 non-null float64\n",
      "Total expenditure                  2712 non-null float64\n",
      "Diphtheria                         2919 non-null float64\n",
      " HIV/AIDS                          2938 non-null float64\n",
      "GDP                                2490 non-null float64\n",
      "Population                         2286 non-null float64\n",
      " thinness  1-19 years              2904 non-null float64\n",
      " thinness 5-9 years                2904 non-null float64\n",
      "Income composition of resources    2771 non-null float64\n",
      "Schooling                          2775 non-null float64\n",
      "dtypes: float64(16), int64(4), object(2)\n",
      "memory usage: 505.0+ KB\n"
     ]
    }
   ],
   "source": [
    "df.info()"
   ]
  },
  {
   "cell_type": "code",
   "execution_count": 4,
   "metadata": {},
   "outputs": [
    {
     "data": {
      "text/plain": [
       "Country                              0\n",
       "Year                                 0\n",
       "Status                               0\n",
       "Life expectancy                      0\n",
       "Adult Mortality                      0\n",
       "infant deaths                        0\n",
       "Alcohol                            193\n",
       "percentage expenditure               0\n",
       "Hepatitis B                        553\n",
       "Measles                              0\n",
       " BMI                                32\n",
       "under-five deaths                    0\n",
       "Polio                               19\n",
       "Total expenditure                  226\n",
       "Diphtheria                          19\n",
       " HIV/AIDS                            0\n",
       "GDP                                443\n",
       "Population                         644\n",
       " thinness  1-19 years               32\n",
       " thinness 5-9 years                 32\n",
       "Income composition of resources    160\n",
       "Schooling                          160\n",
       "dtype: int64"
      ]
     },
     "execution_count": 4,
     "metadata": {},
     "output_type": "execute_result"
    }
   ],
   "source": [
    "df.dropna(subset=['Life expectancy '],inplace=True)\n",
    "df.isna().sum()"
   ]
  },
  {
   "cell_type": "code",
   "execution_count": 5,
   "metadata": {},
   "outputs": [
    {
     "data": {
      "text/html": [
       "<div>\n",
       "<style scoped>\n",
       "    .dataframe tbody tr th:only-of-type {\n",
       "        vertical-align: middle;\n",
       "    }\n",
       "\n",
       "    .dataframe tbody tr th {\n",
       "        vertical-align: top;\n",
       "    }\n",
       "\n",
       "    .dataframe thead th {\n",
       "        text-align: right;\n",
       "    }\n",
       "</style>\n",
       "<table border=\"1\" class=\"dataframe\">\n",
       "  <thead>\n",
       "    <tr style=\"text-align: right;\">\n",
       "      <th></th>\n",
       "      <th>Year</th>\n",
       "      <th>Life expectancy</th>\n",
       "      <th>Adult Mortality</th>\n",
       "      <th>infant deaths</th>\n",
       "      <th>Alcohol</th>\n",
       "      <th>percentage expenditure</th>\n",
       "      <th>Hepatitis B</th>\n",
       "      <th>Measles</th>\n",
       "      <th>BMI</th>\n",
       "      <th>under-five deaths</th>\n",
       "      <th>Polio</th>\n",
       "      <th>Total expenditure</th>\n",
       "      <th>Diphtheria</th>\n",
       "      <th>HIV/AIDS</th>\n",
       "      <th>GDP</th>\n",
       "      <th>Population</th>\n",
       "      <th>thinness  1-19 years</th>\n",
       "      <th>thinness 5-9 years</th>\n",
       "      <th>Income composition of resources</th>\n",
       "      <th>Schooling</th>\n",
       "    </tr>\n",
       "  </thead>\n",
       "  <tbody>\n",
       "    <tr>\n",
       "      <th>count</th>\n",
       "      <td>2928.00000</td>\n",
       "      <td>2928.000000</td>\n",
       "      <td>2928.000000</td>\n",
       "      <td>2928.000000</td>\n",
       "      <td>2735.000000</td>\n",
       "      <td>2928.000000</td>\n",
       "      <td>2375.000000</td>\n",
       "      <td>2928.000000</td>\n",
       "      <td>2896.000000</td>\n",
       "      <td>2928.000000</td>\n",
       "      <td>2909.000000</td>\n",
       "      <td>2702.000000</td>\n",
       "      <td>2909.000000</td>\n",
       "      <td>2928.000000</td>\n",
       "      <td>2485.000000</td>\n",
       "      <td>2.284000e+03</td>\n",
       "      <td>2896.000000</td>\n",
       "      <td>2896.000000</td>\n",
       "      <td>2768.000000</td>\n",
       "      <td>2768.000000</td>\n",
       "    </tr>\n",
       "    <tr>\n",
       "      <th>mean</th>\n",
       "      <td>2007.50000</td>\n",
       "      <td>69.224932</td>\n",
       "      <td>164.796448</td>\n",
       "      <td>30.407445</td>\n",
       "      <td>4.614856</td>\n",
       "      <td>740.321185</td>\n",
       "      <td>80.960842</td>\n",
       "      <td>2427.855874</td>\n",
       "      <td>38.235394</td>\n",
       "      <td>42.179303</td>\n",
       "      <td>82.548298</td>\n",
       "      <td>5.930163</td>\n",
       "      <td>82.321416</td>\n",
       "      <td>1.747712</td>\n",
       "      <td>7494.210719</td>\n",
       "      <td>1.276454e+07</td>\n",
       "      <td>4.850622</td>\n",
       "      <td>4.881423</td>\n",
       "      <td>0.627419</td>\n",
       "      <td>11.999639</td>\n",
       "    </tr>\n",
       "    <tr>\n",
       "      <th>std</th>\n",
       "      <td>4.61056</td>\n",
       "      <td>9.523867</td>\n",
       "      <td>124.292079</td>\n",
       "      <td>118.114450</td>\n",
       "      <td>4.050749</td>\n",
       "      <td>1990.930605</td>\n",
       "      <td>25.018337</td>\n",
       "      <td>11485.970937</td>\n",
       "      <td>19.959590</td>\n",
       "      <td>160.700547</td>\n",
       "      <td>23.416674</td>\n",
       "      <td>2.483273</td>\n",
       "      <td>23.706644</td>\n",
       "      <td>5.085542</td>\n",
       "      <td>14282.251492</td>\n",
       "      <td>6.103765e+07</td>\n",
       "      <td>4.420829</td>\n",
       "      <td>4.509609</td>\n",
       "      <td>0.210978</td>\n",
       "      <td>3.346440</td>\n",
       "    </tr>\n",
       "    <tr>\n",
       "      <th>min</th>\n",
       "      <td>2000.00000</td>\n",
       "      <td>36.300000</td>\n",
       "      <td>1.000000</td>\n",
       "      <td>0.000000</td>\n",
       "      <td>0.010000</td>\n",
       "      <td>0.000000</td>\n",
       "      <td>1.000000</td>\n",
       "      <td>0.000000</td>\n",
       "      <td>1.000000</td>\n",
       "      <td>0.000000</td>\n",
       "      <td>3.000000</td>\n",
       "      <td>0.370000</td>\n",
       "      <td>2.000000</td>\n",
       "      <td>0.100000</td>\n",
       "      <td>1.681350</td>\n",
       "      <td>3.400000e+01</td>\n",
       "      <td>0.100000</td>\n",
       "      <td>0.100000</td>\n",
       "      <td>0.000000</td>\n",
       "      <td>0.000000</td>\n",
       "    </tr>\n",
       "    <tr>\n",
       "      <th>25%</th>\n",
       "      <td>2003.75000</td>\n",
       "      <td>63.100000</td>\n",
       "      <td>74.000000</td>\n",
       "      <td>0.000000</td>\n",
       "      <td>0.905000</td>\n",
       "      <td>4.853964</td>\n",
       "      <td>77.000000</td>\n",
       "      <td>0.000000</td>\n",
       "      <td>19.300000</td>\n",
       "      <td>0.000000</td>\n",
       "      <td>78.000000</td>\n",
       "      <td>4.260000</td>\n",
       "      <td>78.000000</td>\n",
       "      <td>0.100000</td>\n",
       "      <td>463.852618</td>\n",
       "      <td>1.966738e+05</td>\n",
       "      <td>1.600000</td>\n",
       "      <td>1.575000</td>\n",
       "      <td>0.493000</td>\n",
       "      <td>10.100000</td>\n",
       "    </tr>\n",
       "    <tr>\n",
       "      <th>50%</th>\n",
       "      <td>2007.50000</td>\n",
       "      <td>72.100000</td>\n",
       "      <td>144.000000</td>\n",
       "      <td>3.000000</td>\n",
       "      <td>3.770000</td>\n",
       "      <td>65.611455</td>\n",
       "      <td>92.000000</td>\n",
       "      <td>17.000000</td>\n",
       "      <td>43.350000</td>\n",
       "      <td>4.000000</td>\n",
       "      <td>93.000000</td>\n",
       "      <td>5.750000</td>\n",
       "      <td>93.000000</td>\n",
       "      <td>0.100000</td>\n",
       "      <td>1764.973870</td>\n",
       "      <td>1.391756e+06</td>\n",
       "      <td>3.300000</td>\n",
       "      <td>3.400000</td>\n",
       "      <td>0.677000</td>\n",
       "      <td>12.300000</td>\n",
       "    </tr>\n",
       "    <tr>\n",
       "      <th>75%</th>\n",
       "      <td>2011.25000</td>\n",
       "      <td>75.700000</td>\n",
       "      <td>228.000000</td>\n",
       "      <td>22.000000</td>\n",
       "      <td>7.715000</td>\n",
       "      <td>442.614322</td>\n",
       "      <td>97.000000</td>\n",
       "      <td>362.250000</td>\n",
       "      <td>56.100000</td>\n",
       "      <td>28.000000</td>\n",
       "      <td>97.000000</td>\n",
       "      <td>7.490000</td>\n",
       "      <td>97.000000</td>\n",
       "      <td>0.800000</td>\n",
       "      <td>5932.899677</td>\n",
       "      <td>7.426746e+06</td>\n",
       "      <td>7.200000</td>\n",
       "      <td>7.200000</td>\n",
       "      <td>0.779250</td>\n",
       "      <td>14.300000</td>\n",
       "    </tr>\n",
       "    <tr>\n",
       "      <th>max</th>\n",
       "      <td>2015.00000</td>\n",
       "      <td>89.000000</td>\n",
       "      <td>723.000000</td>\n",
       "      <td>1800.000000</td>\n",
       "      <td>17.870000</td>\n",
       "      <td>19479.911610</td>\n",
       "      <td>99.000000</td>\n",
       "      <td>212183.000000</td>\n",
       "      <td>77.600000</td>\n",
       "      <td>2500.000000</td>\n",
       "      <td>99.000000</td>\n",
       "      <td>17.600000</td>\n",
       "      <td>99.000000</td>\n",
       "      <td>50.600000</td>\n",
       "      <td>119172.741800</td>\n",
       "      <td>1.293859e+09</td>\n",
       "      <td>27.700000</td>\n",
       "      <td>28.600000</td>\n",
       "      <td>0.948000</td>\n",
       "      <td>20.700000</td>\n",
       "    </tr>\n",
       "  </tbody>\n",
       "</table>\n",
       "</div>"
      ],
      "text/plain": [
       "             Year  Life expectancy   Adult Mortality  infant deaths  \\\n",
       "count  2928.00000       2928.000000      2928.000000    2928.000000   \n",
       "mean   2007.50000         69.224932       164.796448      30.407445   \n",
       "std       4.61056          9.523867       124.292079     118.114450   \n",
       "min    2000.00000         36.300000         1.000000       0.000000   \n",
       "25%    2003.75000         63.100000        74.000000       0.000000   \n",
       "50%    2007.50000         72.100000       144.000000       3.000000   \n",
       "75%    2011.25000         75.700000       228.000000      22.000000   \n",
       "max    2015.00000         89.000000       723.000000    1800.000000   \n",
       "\n",
       "           Alcohol  percentage expenditure  Hepatitis B       Measles   \\\n",
       "count  2735.000000             2928.000000  2375.000000    2928.000000   \n",
       "mean      4.614856              740.321185    80.960842    2427.855874   \n",
       "std       4.050749             1990.930605    25.018337   11485.970937   \n",
       "min       0.010000                0.000000     1.000000       0.000000   \n",
       "25%       0.905000                4.853964    77.000000       0.000000   \n",
       "50%       3.770000               65.611455    92.000000      17.000000   \n",
       "75%       7.715000              442.614322    97.000000     362.250000   \n",
       "max      17.870000            19479.911610    99.000000  212183.000000   \n",
       "\n",
       "              BMI   under-five deaths         Polio  Total expenditure  \\\n",
       "count  2896.000000         2928.000000  2909.000000        2702.000000   \n",
       "mean     38.235394           42.179303    82.548298           5.930163   \n",
       "std      19.959590          160.700547    23.416674           2.483273   \n",
       "min       1.000000            0.000000     3.000000           0.370000   \n",
       "25%      19.300000            0.000000    78.000000           4.260000   \n",
       "50%      43.350000            4.000000    93.000000           5.750000   \n",
       "75%      56.100000           28.000000    97.000000           7.490000   \n",
       "max      77.600000         2500.000000    99.000000          17.600000   \n",
       "\n",
       "       Diphtheria      HIV/AIDS            GDP    Population  \\\n",
       "count  2909.000000  2928.000000    2485.000000  2.284000e+03   \n",
       "mean     82.321416     1.747712    7494.210719  1.276454e+07   \n",
       "std      23.706644     5.085542   14282.251492  6.103765e+07   \n",
       "min       2.000000     0.100000       1.681350  3.400000e+01   \n",
       "25%      78.000000     0.100000     463.852618  1.966738e+05   \n",
       "50%      93.000000     0.100000    1764.973870  1.391756e+06   \n",
       "75%      97.000000     0.800000    5932.899677  7.426746e+06   \n",
       "max      99.000000    50.600000  119172.741800  1.293859e+09   \n",
       "\n",
       "        thinness  1-19 years   thinness 5-9 years  \\\n",
       "count            2896.000000          2896.000000   \n",
       "mean                4.850622             4.881423   \n",
       "std                 4.420829             4.509609   \n",
       "min                 0.100000             0.100000   \n",
       "25%                 1.600000             1.575000   \n",
       "50%                 3.300000             3.400000   \n",
       "75%                 7.200000             7.200000   \n",
       "max                27.700000            28.600000   \n",
       "\n",
       "       Income composition of resources    Schooling  \n",
       "count                      2768.000000  2768.000000  \n",
       "mean                          0.627419    11.999639  \n",
       "std                           0.210978     3.346440  \n",
       "min                           0.000000     0.000000  \n",
       "25%                           0.493000    10.100000  \n",
       "50%                           0.677000    12.300000  \n",
       "75%                           0.779250    14.300000  \n",
       "max                           0.948000    20.700000  "
      ]
     },
     "execution_count": 5,
     "metadata": {},
     "output_type": "execute_result"
    }
   ],
   "source": [
    "df.describe()"
   ]
  },
  {
   "cell_type": "markdown",
   "metadata": {},
   "source": [
    "<a id=\"eda\"></a>\n",
    "## Exploratory Data Analysis"
   ]
  },
  {
   "cell_type": "code",
   "execution_count": 6,
   "metadata": {},
   "outputs": [
    {
     "data": {
      "text/plain": [
       "<matplotlib.axes._subplots.AxesSubplot at 0x7f2211e2e9b0>"
      ]
     },
     "execution_count": 6,
     "metadata": {},
     "output_type": "execute_result"
    },
    {
     "data": {
      "image/png": "[encoded data removed]",
      "text/plain": [
       "<Figure size 432x288 with 2 Axes>"
      ]
     },
     "metadata": {
      "needs_background": "light"
     },
     "output_type": "display_data"
    }
   ],
   "source": [
    "sns.heatmap(df.corr())"
   ]
  },
  {
   "cell_type": "code",
   "execution_count": 7,
   "metadata": {},
   "outputs": [
    {
     "data": {
      "text/plain": [
       "<matplotlib.axes._subplots.AxesSubplot at 0x7f2f380a1828>"
      ]
     },
     "execution_count": 7,
     "metadata": {},
     "output_type": "execute_result"
    },
    {
     "data": {
      "image/png": "[encoded data removed]",
      "text/plain": [
       "<Figure size 432x288 with 1 Axes>"
      ]
     },
     "metadata": {
      "needs_background": "light"
     },
     "output_type": "display_data"
    }
   ],
   "source": [
    "df['Life expectancy '].hist(bins=30,color='darkblue',alpha=0.7)"
   ]
  },
  {
   "cell_type": "code",
   "execution_count": 8,
   "metadata": {},
   "outputs": [
    {
     "data": {
      "text/plain": [
       "<matplotlib.axes._subplots.AxesSubplot at 0x7f2f1af7b7f0>"
      ]
     },
     "execution_count": 8,
     "metadata": {},
     "output_type": "execute_result"
    },
    {
     "data": {
      "image/png": "[encoded data removed]",
      "text/plain": [
       "<Figure size 432x288 with 1 Axes>"
      ]
     },
     "metadata": {
      "needs_background": "light"
     },
     "output_type": "display_data"
    }
   ],
   "source": [
    "sns.scatterplot(df[\"Life expectancy \"],df['Schooling'])"
   ]
  },
  {
   "cell_type": "code",
   "execution_count": 9,
   "metadata": {},
   "outputs": [
    {
     "data": {
      "text/plain": [
       "<matplotlib.axes._subplots.AxesSubplot at 0x7f2f1aed3c18>"
      ]
     },
     "execution_count": 9,
     "metadata": {},
     "output_type": "execute_result"
    },
    {
     "data": {
      "image/png": "[encoded data removed]",
      "text/plain": [
       "<Figure size 432x288 with 1 Axes>"
      ]
     },
     "metadata": {
      "needs_background": "light"
     },
     "output_type": "display_data"
    }
   ],
   "source": [
    "sns.countplot(df['Status'])"
   ]
  },
  {
   "cell_type": "code",
   "execution_count": 10,
   "metadata": {},
   "outputs": [
    {
     "data": {
      "text/plain": [
       "<matplotlib.axes._subplots.AxesSubplot at 0x7f2f1aea0198>"
      ]
     },
     "execution_count": 10,
     "metadata": {},
     "output_type": "execute_result"
    },
    {
     "data": {
      "image/png": "[encoded data removed]",
      "text/plain": [
       "<Figure size 432x288 with 1 Axes>"
      ]
     },
     "metadata": {
      "needs_background": "light"
     },
     "output_type": "display_data"
    }
   ],
   "source": [
    "sns.scatterplot(df[\"Life expectancy \"],df['Income composition of resources'],color=\"red\")"
   ]
  },
  {
   "cell_type": "code",
   "execution_count": 11,
   "metadata": {},
   "outputs": [
    {
     "data": {
      "text/plain": [
       "<matplotlib.axes._subplots.AxesSubplot at 0x7f2f1ae849e8>"
      ]
     },
     "execution_count": 11,
     "metadata": {},
     "output_type": "execute_result"
    },
    {
     "data": {
      "image/png": "[encoded data removed]",
      "text/plain": [
       "<Figure size 432x288 with 1 Axes>"
      ]
     },
     "metadata": {
      "needs_background": "light"
     },
     "output_type": "display_data"
    }
   ],
   "source": [
    "sns.distplot(df['Adult Mortality'],color=\"green\")"
   ]
  },
  {
   "cell_type": "code",
   "execution_count": 12,
   "metadata": {},
   "outputs": [
    {
     "data": {
      "text/plain": [
       "<matplotlib.axes._subplots.AxesSubplot at 0x7f2f1aeaa898>"
      ]
     },
     "execution_count": 12,
     "metadata": {},
     "output_type": "execute_result"
    },
    {
     "data": {
      "image/png": "[encoded data removed]",
      "text/plain": [
       "<Figure size 432x288 with 1 Axes>"
      ]
     },
     "metadata": {
      "needs_background": "light"
     },
     "output_type": "display_data"
    }
   ],
   "source": [
    "sns.scatterplot(df[\"Life expectancy \"],np.log(df['GDP']),color=\"violet\")"
   ]
  },
  {
   "cell_type": "code",
   "execution_count": 13,
   "metadata": {},
   "outputs": [
    {
     "data": {
      "text/plain": [
       "<matplotlib.axes._subplots.AxesSubplot at 0x7f2f1ad8fb38>"
      ]
     },
     "execution_count": 13,
     "metadata": {},
     "output_type": "execute_result"
    },
    {
     "data": {
      "image/png": "[encoded data removed]",
      "text/plain": [
       "<Figure size 432x288 with 1 Axes>"
      ]
     },
     "metadata": {
      "needs_background": "light"
     },
     "output_type": "display_data"
    }
   ],
   "source": [
    "sns.scatterplot(df[\"Life expectancy \"],np.log(df['Population']),color=\"orange\")"
   ]
  },
  {
   "cell_type": "markdown",
   "metadata": {},
   "source": [
    "<a id=\"data_prepare\"></a>\n",
    "## Data Preparation"
   ]
  },
  {
   "cell_type": "code",
   "execution_count": 14,
   "metadata": {},
   "outputs": [],
   "source": [
    "df.drop('Population',axis=1,inplace=True)"
   ]
  },
  {
   "cell_type": "code",
   "execution_count": 15,
   "metadata": {},
   "outputs": [],
   "source": [
    "for country in df['Country'].unique():\n",
    "    df1=df[df['Country']==country]\n",
    "    df1['Alcohol'].fillna(df1['Alcohol'].mean(),inplace=True)\n",
    "    df1[' BMI '].fillna(df1[' BMI '].mean(),inplace=True)\n",
    "    df1['Hepatitis B'].fillna(df1['Hepatitis B'].mean(),inplace=True)\n",
    "    df1['Polio'].fillna(df1['Polio'].mean(),inplace=True)\n",
    "    df1['Total expenditure'].fillna(df1['Total expenditure'].mean(),inplace=True)\n",
    "    df1['Diphtheria '].fillna(df1['Diphtheria '].mean(),inplace=True)\n",
    "    df1['GDP'].fillna(df1['GDP'].mean(),inplace=True)\n",
    "    df1[' thinness  1-19 years'].fillna(df1[' thinness  1-19 years'].mean(),inplace=True)\n",
    "    df1[' thinness 5-9 years'].fillna(df1[' thinness 5-9 years'].mean(),inplace=True)\n",
    "    df1['Income composition of resources'].fillna(df1['Income composition of resources'].mean(),inplace=True)\n",
    "    df1['Schooling'].fillna(df1['Schooling'].mean(),inplace=True)\n",
    "    df[df['Country']==country]=df1\n",
    "df['Alcohol'].fillna(df['Alcohol'].mean(),inplace=True)\n",
    "df[' BMI '].fillna(df[' BMI '].mean(),inplace=True)\n",
    "df['Hepatitis B'].fillna(df['Hepatitis B'].mean(),inplace=True)\n",
    "df['Polio'].fillna(df['Polio'].mean(),inplace=True)\n",
    "df['Total expenditure'].fillna(df['Total expenditure'].mean(),inplace=True)\n",
    "df['Diphtheria '].fillna(df['Diphtheria '].mean(),inplace=True)\n",
    "df['GDP'].fillna(df['GDP'].mean(),inplace=True)\n",
    "df[' thinness  1-19 years'].fillna(df[' thinness  1-19 years'].mean(),inplace=True)\n",
    "df[' thinness 5-9 years'].fillna(df[' thinness 5-9 years'].mean(),inplace=True)\n",
    "df['Income composition of resources'].fillna(df['Income composition of resources'].mean(),inplace=True)\n",
    "df['Schooling'].fillna(df['Schooling'].mean(),inplace=True)"
   ]
  },
  {
   "cell_type": "code",
   "execution_count": 16,
   "metadata": {},
   "outputs": [
    {
     "name": "stdout",
     "output_type": "stream",
     "text": [
      "<class 'pandas.core.frame.DataFrame'>\n",
      "Int64Index: 2928 entries, 0 to 2937\n",
      "Data columns (total 21 columns):\n",
      "Country                            2928 non-null object\n",
      "Year                               2928 non-null int64\n",
      "Status                             2928 non-null object\n",
      "Life expectancy                    2928 non-null float64\n",
      "Adult Mortality                    2928 non-null float64\n",
      "infant deaths                      2928 non-null int64\n",
      "Alcohol                            2928 non-null float64\n",
      "percentage expenditure             2928 non-null float64\n",
      "Hepatitis B                        2928 non-null float64\n",
      "Measles                            2928 non-null int64\n",
      " BMI                               2928 non-null float64\n",
      "under-five deaths                  2928 non-null int64\n",
      "Polio                              2928 non-null float64\n",
      "Total expenditure                  2928 non-null float64\n",
      "Diphtheria                         2928 non-null float64\n",
      " HIV/AIDS                          2928 non-null float64\n",
      "GDP                                2928 non-null float64\n",
      " thinness  1-19 years              2928 non-null float64\n",
      " thinness 5-9 years                2928 non-null float64\n",
      "Income composition of resources    2928 non-null float64\n",
      "Schooling                          2928 non-null float64\n",
      "dtypes: float64(15), int64(4), object(2)\n",
      "memory usage: 503.2+ KB\n"
     ]
    }
   ],
   "source": [
    "df.info()"
   ]
  },
  {
   "cell_type": "code",
   "execution_count": 17,
   "metadata": {},
   "outputs": [
    {
     "data": {
      "text/html": [
       "<div>\n",
       "<style scoped>\n",
       "    .dataframe tbody tr th:only-of-type {\n",
       "        vertical-align: middle;\n",
       "    }\n",
       "\n",
       "    .dataframe tbody tr th {\n",
       "        vertical-align: top;\n",
       "    }\n",
       "\n",
       "    .dataframe thead th {\n",
       "        text-align: right;\n",
       "    }\n",
       "</style>\n",
       "<table border=\"1\" class=\"dataframe\">\n",
       "  <thead>\n",
       "    <tr style=\"text-align: right;\">\n",
       "      <th></th>\n",
       "      <th>Country</th>\n",
       "      <th>Year</th>\n",
       "      <th>Status</th>\n",
       "      <th>Life expectancy</th>\n",
       "      <th>Adult Mortality</th>\n",
       "      <th>infant deaths</th>\n",
       "      <th>Alcohol</th>\n",
       "      <th>percentage expenditure</th>\n",
       "      <th>Hepatitis B</th>\n",
       "      <th>Measles</th>\n",
       "      <th>...</th>\n",
       "      <th>under-five deaths</th>\n",
       "      <th>Polio</th>\n",
       "      <th>Total expenditure</th>\n",
       "      <th>Diphtheria</th>\n",
       "      <th>HIV/AIDS</th>\n",
       "      <th>GDP</th>\n",
       "      <th>thinness  1-19 years</th>\n",
       "      <th>thinness 5-9 years</th>\n",
       "      <th>Income composition of resources</th>\n",
       "      <th>Schooling</th>\n",
       "    </tr>\n",
       "  </thead>\n",
       "  <tbody>\n",
       "    <tr>\n",
       "      <th>0</th>\n",
       "      <td>0</td>\n",
       "      <td>2015</td>\n",
       "      <td>1</td>\n",
       "      <td>65.0</td>\n",
       "      <td>263.0</td>\n",
       "      <td>62</td>\n",
       "      <td>0.01</td>\n",
       "      <td>71.279624</td>\n",
       "      <td>65.0</td>\n",
       "      <td>1154</td>\n",
       "      <td>...</td>\n",
       "      <td>83</td>\n",
       "      <td>6.0</td>\n",
       "      <td>8.16</td>\n",
       "      <td>65.0</td>\n",
       "      <td>0.1</td>\n",
       "      <td>584.259210</td>\n",
       "      <td>17.2</td>\n",
       "      <td>17.3</td>\n",
       "      <td>0.479</td>\n",
       "      <td>10.1</td>\n",
       "    </tr>\n",
       "    <tr>\n",
       "      <th>1</th>\n",
       "      <td>0</td>\n",
       "      <td>2014</td>\n",
       "      <td>1</td>\n",
       "      <td>59.9</td>\n",
       "      <td>271.0</td>\n",
       "      <td>64</td>\n",
       "      <td>0.01</td>\n",
       "      <td>73.523582</td>\n",
       "      <td>62.0</td>\n",
       "      <td>492</td>\n",
       "      <td>...</td>\n",
       "      <td>86</td>\n",
       "      <td>58.0</td>\n",
       "      <td>8.18</td>\n",
       "      <td>62.0</td>\n",
       "      <td>0.1</td>\n",
       "      <td>612.696514</td>\n",
       "      <td>17.5</td>\n",
       "      <td>17.5</td>\n",
       "      <td>0.476</td>\n",
       "      <td>10.0</td>\n",
       "    </tr>\n",
       "    <tr>\n",
       "      <th>2</th>\n",
       "      <td>0</td>\n",
       "      <td>2013</td>\n",
       "      <td>1</td>\n",
       "      <td>59.9</td>\n",
       "      <td>268.0</td>\n",
       "      <td>66</td>\n",
       "      <td>0.01</td>\n",
       "      <td>73.219243</td>\n",
       "      <td>64.0</td>\n",
       "      <td>430</td>\n",
       "      <td>...</td>\n",
       "      <td>89</td>\n",
       "      <td>62.0</td>\n",
       "      <td>8.13</td>\n",
       "      <td>64.0</td>\n",
       "      <td>0.1</td>\n",
       "      <td>631.744976</td>\n",
       "      <td>17.7</td>\n",
       "      <td>17.7</td>\n",
       "      <td>0.470</td>\n",
       "      <td>9.9</td>\n",
       "    </tr>\n",
       "    <tr>\n",
       "      <th>3</th>\n",
       "      <td>0</td>\n",
       "      <td>2012</td>\n",
       "      <td>1</td>\n",
       "      <td>59.5</td>\n",
       "      <td>272.0</td>\n",
       "      <td>69</td>\n",
       "      <td>0.01</td>\n",
       "      <td>78.184215</td>\n",
       "      <td>67.0</td>\n",
       "      <td>2787</td>\n",
       "      <td>...</td>\n",
       "      <td>93</td>\n",
       "      <td>67.0</td>\n",
       "      <td>8.52</td>\n",
       "      <td>67.0</td>\n",
       "      <td>0.1</td>\n",
       "      <td>669.959000</td>\n",
       "      <td>17.9</td>\n",
       "      <td>18.0</td>\n",
       "      <td>0.463</td>\n",
       "      <td>9.8</td>\n",
       "    </tr>\n",
       "    <tr>\n",
       "      <th>4</th>\n",
       "      <td>0</td>\n",
       "      <td>2011</td>\n",
       "      <td>1</td>\n",
       "      <td>59.2</td>\n",
       "      <td>275.0</td>\n",
       "      <td>71</td>\n",
       "      <td>0.01</td>\n",
       "      <td>7.097109</td>\n",
       "      <td>68.0</td>\n",
       "      <td>3013</td>\n",
       "      <td>...</td>\n",
       "      <td>97</td>\n",
       "      <td>68.0</td>\n",
       "      <td>7.87</td>\n",
       "      <td>68.0</td>\n",
       "      <td>0.1</td>\n",
       "      <td>63.537231</td>\n",
       "      <td>18.2</td>\n",
       "      <td>18.2</td>\n",
       "      <td>0.454</td>\n",
       "      <td>9.5</td>\n",
       "    </tr>\n",
       "  </tbody>\n",
       "</table>\n",
       "<p>5 rows × 21 columns</p>\n",
       "</div>"
      ],
      "text/plain": [
       "   Country  Year  Status  Life expectancy   Adult Mortality  infant deaths  \\\n",
       "0        0  2015       1              65.0            263.0             62   \n",
       "1        0  2014       1              59.9            271.0             64   \n",
       "2        0  2013       1              59.9            268.0             66   \n",
       "3        0  2012       1              59.5            272.0             69   \n",
       "4        0  2011       1              59.2            275.0             71   \n",
       "\n",
       "   Alcohol  percentage expenditure  Hepatitis B  Measles   ...  \\\n",
       "0     0.01               71.279624         65.0      1154  ...   \n",
       "1     0.01               73.523582         62.0       492  ...   \n",
       "2     0.01               73.219243         64.0       430  ...   \n",
       "3     0.01               78.184215         67.0      2787  ...   \n",
       "4     0.01                7.097109         68.0      3013  ...   \n",
       "\n",
       "   under-five deaths   Polio  Total expenditure  Diphtheria    HIV/AIDS  \\\n",
       "0                  83    6.0               8.16         65.0        0.1   \n",
       "1                  86   58.0               8.18         62.0        0.1   \n",
       "2                  89   62.0               8.13         64.0        0.1   \n",
       "3                  93   67.0               8.52         67.0        0.1   \n",
       "4                  97   68.0               7.87         68.0        0.1   \n",
       "\n",
       "          GDP   thinness  1-19 years   thinness 5-9 years  \\\n",
       "0  584.259210                   17.2                 17.3   \n",
       "1  612.696514                   17.5                 17.5   \n",
       "2  631.744976                   17.7                 17.7   \n",
       "3  669.959000                   17.9                 18.0   \n",
       "4   63.537231                   18.2                 18.2   \n",
       "\n",
       "   Income composition of resources  Schooling  \n",
       "0                            0.479       10.1  \n",
       "1                            0.476       10.0  \n",
       "2                            0.470        9.9  \n",
       "3                            0.463        9.8  \n",
       "4                            0.454        9.5  \n",
       "\n",
       "[5 rows x 21 columns]"
      ]
     },
     "execution_count": 17,
     "metadata": {},
     "output_type": "execute_result"
    }
   ],
   "source": [
    "LE=LabelEncoder()\n",
    "df['Country']=LE.fit_transform(df['Country'])\n",
    "df['Status']=LE.fit_transform(df['Status'])\n",
    "df.head()"
   ]
  },
  {
   "cell_type": "markdown",
   "metadata": {},
   "source": [
    "<a id=\"lr_model\"></a>\n",
    "## Building Linear Regression Model"
   ]
  },
  {
   "cell_type": "code",
   "execution_count": 18,
   "metadata": {},
   "outputs": [],
   "source": [
    "X=df.drop(['Life expectancy '], axis=1)\n",
    "Y= df['Life expectancy ']\n",
    "\n",
    "x_train,x_test,y_train,y_test=train_test_split(X,Y,test_size=0.3,random_state=101)"
   ]
  },
  {
   "cell_type": "code",
   "execution_count": 19,
   "metadata": {},
   "outputs": [],
   "source": [
    "from sklearn.linear_model import LinearRegression\n",
    "lr=LinearRegression()\n",
    "lr.fit(x_train,y_train)\n",
    "y_pred=lr.predict(x_test)"
   ]
  },
  {
   "cell_type": "code",
   "execution_count": 20,
   "metadata": {},
   "outputs": [
    {
     "data": {
      "text/plain": [
       "3.937144424236844"
      ]
     },
     "execution_count": 20,
     "metadata": {},
     "output_type": "execute_result"
    }
   ],
   "source": [
    "import math\n",
    "mse=mean_squared_error(y_test,y_pred)\n",
    "rmse=math.sqrt(mse)\n",
    "rmse"
   ]
  },
  {
   "cell_type": "code",
   "execution_count": 21,
   "metadata": {},
   "outputs": [
    {
     "data": {
      "text/plain": [
       "0.8199296556801852"
      ]
     },
     "execution_count": 21,
     "metadata": {},
     "output_type": "execute_result"
    }
   ],
   "source": [
    "r2score=r2_score(y_test,y_pred)\n",
    "r2score"
   ]
  },
  {
   "cell_type": "markdown",
   "metadata": {},
   "source": [
    "<a id=\"models\"></a>\n",
    "## Comparing Performance of Various Models"
   ]
  },
  {
   "cell_type": "code",
   "execution_count": 22,
   "metadata": {},
   "outputs": [],
   "source": [
    "from sklearn.preprocessing import StandardScaler, MinMaxScaler\n",
    "from sklearn import model_selection\n",
    "from sklearn.pipeline import Pipeline\n",
    "from sklearn.tree import DecisionTreeRegressor\n",
    "from sklearn.svm import SVR\n",
    "from sklearn.neighbors import KNeighborsRegressor\n",
    "from sklearn.ensemble import RandomForestRegressor\n",
    "from sklearn.ensemble import ExtraTreesRegressor"
   ]
  },
  {
   "cell_type": "code",
   "execution_count": 23,
   "metadata": {},
   "outputs": [
    {
     "data": {
      "text/html": [
       "<div>\n",
       "<style scoped>\n",
       "    .dataframe tbody tr th:only-of-type {\n",
       "        vertical-align: middle;\n",
       "    }\n",
       "\n",
       "    .dataframe tbody tr th {\n",
       "        vertical-align: top;\n",
       "    }\n",
       "\n",
       "    .dataframe thead th {\n",
       "        text-align: right;\n",
       "    }\n",
       "</style>\n",
       "<table border=\"1\" class=\"dataframe\">\n",
       "  <thead>\n",
       "    <tr style=\"text-align: right;\">\n",
       "      <th></th>\n",
       "      <th>CV1</th>\n",
       "      <th>CV2</th>\n",
       "      <th>CV3</th>\n",
       "      <th>CV4</th>\n",
       "      <th>CV5</th>\n",
       "      <th>CV Mean</th>\n",
       "      <th>CV Std Dev</th>\n",
       "    </tr>\n",
       "  </thead>\n",
       "  <tbody>\n",
       "    <tr>\n",
       "      <th>ET</th>\n",
       "      <td>0.962761</td>\n",
       "      <td>0.968413</td>\n",
       "      <td>0.964716</td>\n",
       "      <td>0.973062</td>\n",
       "      <td>0.964274</td>\n",
       "      <td>0.966645</td>\n",
       "      <td>0.004145</td>\n",
       "    </tr>\n",
       "    <tr>\n",
       "      <th>RF</th>\n",
       "      <td>0.958844</td>\n",
       "      <td>0.961010</td>\n",
       "      <td>0.952286</td>\n",
       "      <td>0.963370</td>\n",
       "      <td>0.951731</td>\n",
       "      <td>0.957448</td>\n",
       "      <td>0.005221</td>\n",
       "    </tr>\n",
       "    <tr>\n",
       "      <th>DT</th>\n",
       "      <td>0.897792</td>\n",
       "      <td>0.928721</td>\n",
       "      <td>0.918374</td>\n",
       "      <td>0.934443</td>\n",
       "      <td>0.926346</td>\n",
       "      <td>0.921135</td>\n",
       "      <td>0.014269</td>\n",
       "    </tr>\n",
       "    <tr>\n",
       "      <th>LR</th>\n",
       "      <td>0.822796</td>\n",
       "      <td>0.800277</td>\n",
       "      <td>0.805199</td>\n",
       "      <td>0.836936</td>\n",
       "      <td>0.808557</td>\n",
       "      <td>0.814753</td>\n",
       "      <td>0.014967</td>\n",
       "    </tr>\n",
       "    <tr>\n",
       "      <th>KNN</th>\n",
       "      <td>0.650397</td>\n",
       "      <td>0.683198</td>\n",
       "      <td>0.636245</td>\n",
       "      <td>0.683797</td>\n",
       "      <td>0.618229</td>\n",
       "      <td>0.654373</td>\n",
       "      <td>0.028929</td>\n",
       "    </tr>\n",
       "    <tr>\n",
       "      <th>SVM</th>\n",
       "      <td>-0.108036</td>\n",
       "      <td>-0.108556</td>\n",
       "      <td>-0.048667</td>\n",
       "      <td>-0.078244</td>\n",
       "      <td>-0.071606</td>\n",
       "      <td>-0.083022</td>\n",
       "      <td>0.025550</td>\n",
       "    </tr>\n",
       "  </tbody>\n",
       "</table>\n",
       "</div>"
      ],
      "text/plain": [
       "          CV1       CV2       CV3       CV4       CV5   CV Mean  CV Std Dev\n",
       "ET   0.962761  0.968413  0.964716  0.973062  0.964274  0.966645    0.004145\n",
       "RF   0.958844  0.961010  0.952286  0.963370  0.951731  0.957448    0.005221\n",
       "DT   0.897792  0.928721  0.918374  0.934443  0.926346  0.921135    0.014269\n",
       "LR   0.822796  0.800277  0.805199  0.836936  0.808557  0.814753    0.014967\n",
       "KNN  0.650397  0.683198  0.636245  0.683797  0.618229  0.654373    0.028929\n",
       "SVM -0.108036 -0.108556 -0.048667 -0.078244 -0.071606 -0.083022    0.025550"
      ]
     },
     "execution_count": 23,
     "metadata": {},
     "output_type": "execute_result"
    }
   ],
   "source": [
    "models = []\n",
    "models.append(('LR', LinearRegression()))\n",
    "models.append(('KNN', KNeighborsRegressor()))\n",
    "models.append(('SVM', SVR()))\n",
    "models.append(('DT', DecisionTreeRegressor()))\n",
    "models.append(('ET', ExtraTreesRegressor()))\n",
    "models.append(('RF', RandomForestRegressor()))\n",
    "results = []\n",
    "names = []\n",
    "n_splits = 5\n",
    "for name, model in models:\n",
    "    kfold = model_selection.KFold(n_splits=n_splits, shuffle=True, random_state=5)\n",
    "    cv_results = model_selection.cross_val_score(model, X, Y, cv=kfold, scoring='r2')\n",
    "    results.append(cv_results)\n",
    "    names.append(name)\n",
    "    \n",
    "results_df = pd.DataFrame(results, index=names,columns='CV1 CV2 CV3 CV4 CV5'.split())\n",
    "results_df['CV Mean'] = results_df.iloc[:,0:n_splits].mean(axis=1)\n",
    "results_df['CV Std Dev'] = results_df.iloc[:,0:n_splits].std(axis=1)\n",
    "results_df.sort_values(by='CV Mean', ascending=False)"
   ]
  },
  {
   "cell_type": "markdown",
   "metadata": {},
   "source": [
    "<a id=\"models_ss\"></a>\n",
    "## Comparing Performance of Various Models With Standard Scaler"
   ]
  },
  {
   "cell_type": "code",
   "execution_count": 24,
   "metadata": {},
   "outputs": [
    {
     "data": {
      "text/html": [
       "<div>\n",
       "<style scoped>\n",
       "    .dataframe tbody tr th:only-of-type {\n",
       "        vertical-align: middle;\n",
       "    }\n",
       "\n",
       "    .dataframe tbody tr th {\n",
       "        vertical-align: top;\n",
       "    }\n",
       "\n",
       "    .dataframe thead th {\n",
       "        text-align: right;\n",
       "    }\n",
       "</style>\n",
       "<table border=\"1\" class=\"dataframe\">\n",
       "  <thead>\n",
       "    <tr style=\"text-align: right;\">\n",
       "      <th></th>\n",
       "      <th>CV1</th>\n",
       "      <th>CV2</th>\n",
       "      <th>CV3</th>\n",
       "      <th>CV4</th>\n",
       "      <th>CV5</th>\n",
       "      <th>CV Mean</th>\n",
       "      <th>CV Std Dev</th>\n",
       "    </tr>\n",
       "  </thead>\n",
       "  <tbody>\n",
       "    <tr>\n",
       "      <th>ScaledET</th>\n",
       "      <td>0.966219</td>\n",
       "      <td>0.964049</td>\n",
       "      <td>0.963043</td>\n",
       "      <td>0.969680</td>\n",
       "      <td>0.962362</td>\n",
       "      <td>0.965071</td>\n",
       "      <td>0.002960</td>\n",
       "    </tr>\n",
       "    <tr>\n",
       "      <th>ScaledRF</th>\n",
       "      <td>0.953927</td>\n",
       "      <td>0.960721</td>\n",
       "      <td>0.950922</td>\n",
       "      <td>0.966373</td>\n",
       "      <td>0.952605</td>\n",
       "      <td>0.956909</td>\n",
       "      <td>0.006468</td>\n",
       "    </tr>\n",
       "    <tr>\n",
       "      <th>ScaledDT</th>\n",
       "      <td>0.925201</td>\n",
       "      <td>0.922845</td>\n",
       "      <td>0.915333</td>\n",
       "      <td>0.935054</td>\n",
       "      <td>0.933343</td>\n",
       "      <td>0.926355</td>\n",
       "      <td>0.008057</td>\n",
       "    </tr>\n",
       "    <tr>\n",
       "      <th>ScaledKNN</th>\n",
       "      <td>0.904147</td>\n",
       "      <td>0.915255</td>\n",
       "      <td>0.908440</td>\n",
       "      <td>0.915355</td>\n",
       "      <td>0.907184</td>\n",
       "      <td>0.910076</td>\n",
       "      <td>0.005022</td>\n",
       "    </tr>\n",
       "    <tr>\n",
       "      <th>ScaledSVM</th>\n",
       "      <td>0.852278</td>\n",
       "      <td>0.860618</td>\n",
       "      <td>0.839850</td>\n",
       "      <td>0.863042</td>\n",
       "      <td>0.850374</td>\n",
       "      <td>0.853233</td>\n",
       "      <td>0.009205</td>\n",
       "    </tr>\n",
       "    <tr>\n",
       "      <th>ScaledLR</th>\n",
       "      <td>0.822796</td>\n",
       "      <td>0.800277</td>\n",
       "      <td>0.805199</td>\n",
       "      <td>0.836936</td>\n",
       "      <td>0.808557</td>\n",
       "      <td>0.814753</td>\n",
       "      <td>0.014967</td>\n",
       "    </tr>\n",
       "  </tbody>\n",
       "</table>\n",
       "</div>"
      ],
      "text/plain": [
       "                CV1       CV2       CV3       CV4       CV5   CV Mean  \\\n",
       "ScaledET   0.966219  0.964049  0.963043  0.969680  0.962362  0.965071   \n",
       "ScaledRF   0.953927  0.960721  0.950922  0.966373  0.952605  0.956909   \n",
       "ScaledDT   0.925201  0.922845  0.915333  0.935054  0.933343  0.926355   \n",
       "ScaledKNN  0.904147  0.915255  0.908440  0.915355  0.907184  0.910076   \n",
       "ScaledSVM  0.852278  0.860618  0.839850  0.863042  0.850374  0.853233   \n",
       "ScaledLR   0.822796  0.800277  0.805199  0.836936  0.808557  0.814753   \n",
       "\n",
       "           CV Std Dev  \n",
       "ScaledET     0.002960  \n",
       "ScaledRF     0.006468  \n",
       "ScaledDT     0.008057  \n",
       "ScaledKNN    0.005022  \n",
       "ScaledSVM    0.009205  \n",
       "ScaledLR     0.014967  "
      ]
     },
     "execution_count": 24,
     "metadata": {},
     "output_type": "execute_result"
    }
   ],
   "source": [
    "pipelines = []\n",
    "pipelines.append(('ScaledLR', Pipeline([('Scaler', StandardScaler()),('LR', LinearRegression())])))\n",
    "pipelines.append(('ScaledKNN', Pipeline([('Scaler', StandardScaler()),('KNN', KNeighborsRegressor())])))\n",
    "pipelines.append(('ScaledSVM', Pipeline([('Scaler', StandardScaler()),('SVM', SVR())])))\n",
    "pipelines.append(('ScaledDT', Pipeline([('Scaler', StandardScaler()),('DT', DecisionTreeRegressor())])))\n",
    "pipelines.append(('ScaledET', Pipeline([('Scaler', StandardScaler()),('ET', ExtraTreesRegressor())])))\n",
    "pipelines.append(('ScaledRF', Pipeline([('Scaler', StandardScaler()),('RF', RandomForestRegressor())])))\n",
    "results = []\n",
    "names = []\n",
    "n_splits = 5\n",
    "for name, model in pipelines:\n",
    "    kfold = model_selection.KFold(n_splits=n_splits, shuffle=True, random_state=5)\n",
    "    cv_results = model_selection.cross_val_score(model, X, Y, cv=kfold, scoring='r2')\n",
    "    results.append(cv_results)\n",
    "    names.append(name)\n",
    "    \n",
    "results_df = pd.DataFrame(results, index=names,columns='CV1 CV2 CV3 CV4 CV5'.split())\n",
    "results_df['CV Mean'] = results_df.iloc[:,0:n_splits].mean(axis=1)\n",
    "results_df['CV Std Dev'] = results_df.iloc[:,0:n_splits].std(axis=1)\n",
    "results_df.sort_values(by='CV Mean', ascending=False)"
   ]
  },
  {
   "cell_type": "markdown",
   "metadata": {},
   "source": [
    "<a id=\"models_ms\"></a>\n",
    "## Comparing Performance of Various Models With MinMax Scaler"
   ]
  },
  {
   "cell_type": "code",
   "execution_count": 25,
   "metadata": {},
   "outputs": [
    {
     "data": {
      "text/html": [
       "<div>\n",
       "<style scoped>\n",
       "    .dataframe tbody tr th:only-of-type {\n",
       "        vertical-align: middle;\n",
       "    }\n",
       "\n",
       "    .dataframe tbody tr th {\n",
       "        vertical-align: top;\n",
       "    }\n",
       "\n",
       "    .dataframe thead th {\n",
       "        text-align: right;\n",
       "    }\n",
       "</style>\n",
       "<table border=\"1\" class=\"dataframe\">\n",
       "  <thead>\n",
       "    <tr style=\"text-align: right;\">\n",
       "      <th></th>\n",
       "      <th>CV1</th>\n",
       "      <th>CV2</th>\n",
       "      <th>CV3</th>\n",
       "      <th>CV4</th>\n",
       "      <th>CV5</th>\n",
       "      <th>CV Mean</th>\n",
       "      <th>CV Std Dev</th>\n",
       "    </tr>\n",
       "  </thead>\n",
       "  <tbody>\n",
       "    <tr>\n",
       "      <th>ScaledET</th>\n",
       "      <td>0.962518</td>\n",
       "      <td>0.963457</td>\n",
       "      <td>0.965481</td>\n",
       "      <td>0.970523</td>\n",
       "      <td>0.959456</td>\n",
       "      <td>0.964287</td>\n",
       "      <td>0.004107</td>\n",
       "    </tr>\n",
       "    <tr>\n",
       "      <th>ScaledRF</th>\n",
       "      <td>0.957440</td>\n",
       "      <td>0.959630</td>\n",
       "      <td>0.951307</td>\n",
       "      <td>0.965877</td>\n",
       "      <td>0.950566</td>\n",
       "      <td>0.956964</td>\n",
       "      <td>0.006319</td>\n",
       "    </tr>\n",
       "    <tr>\n",
       "      <th>ScaledDT</th>\n",
       "      <td>0.933254</td>\n",
       "      <td>0.930483</td>\n",
       "      <td>0.926048</td>\n",
       "      <td>0.934136</td>\n",
       "      <td>0.917346</td>\n",
       "      <td>0.928253</td>\n",
       "      <td>0.006863</td>\n",
       "    </tr>\n",
       "    <tr>\n",
       "      <th>ScaledKNN</th>\n",
       "      <td>0.888935</td>\n",
       "      <td>0.898090</td>\n",
       "      <td>0.894862</td>\n",
       "      <td>0.887275</td>\n",
       "      <td>0.896767</td>\n",
       "      <td>0.893186</td>\n",
       "      <td>0.004814</td>\n",
       "    </tr>\n",
       "    <tr>\n",
       "      <th>ScaledLR</th>\n",
       "      <td>0.822796</td>\n",
       "      <td>0.800277</td>\n",
       "      <td>0.805199</td>\n",
       "      <td>0.836936</td>\n",
       "      <td>0.808557</td>\n",
       "      <td>0.814753</td>\n",
       "      <td>0.014967</td>\n",
       "    </tr>\n",
       "    <tr>\n",
       "      <th>ScaledSVM</th>\n",
       "      <td>0.740906</td>\n",
       "      <td>0.743962</td>\n",
       "      <td>0.772040</td>\n",
       "      <td>0.751707</td>\n",
       "      <td>0.748081</td>\n",
       "      <td>0.751339</td>\n",
       "      <td>0.012273</td>\n",
       "    </tr>\n",
       "  </tbody>\n",
       "</table>\n",
       "</div>"
      ],
      "text/plain": [
       "                CV1       CV2       CV3       CV4       CV5   CV Mean  \\\n",
       "ScaledET   0.962518  0.963457  0.965481  0.970523  0.959456  0.964287   \n",
       "ScaledRF   0.957440  0.959630  0.951307  0.965877  0.950566  0.956964   \n",
       "ScaledDT   0.933254  0.930483  0.926048  0.934136  0.917346  0.928253   \n",
       "ScaledKNN  0.888935  0.898090  0.894862  0.887275  0.896767  0.893186   \n",
       "ScaledLR   0.822796  0.800277  0.805199  0.836936  0.808557  0.814753   \n",
       "ScaledSVM  0.740906  0.743962  0.772040  0.751707  0.748081  0.751339   \n",
       "\n",
       "           CV Std Dev  \n",
       "ScaledET     0.004107  \n",
       "ScaledRF     0.006319  \n",
       "ScaledDT     0.006863  \n",
       "ScaledKNN    0.004814  \n",
       "ScaledLR     0.014967  \n",
       "ScaledSVM    0.012273  "
      ]
     },
     "execution_count": 25,
     "metadata": {},
     "output_type": "execute_result"
    }
   ],
   "source": [
    "pipelines = []\n",
    "pipelines.append(('ScaledLR', Pipeline([('Scaler', MinMaxScaler()),('LR', LinearRegression())])))\n",
    "pipelines.append(('ScaledKNN', Pipeline([('Scaler', MinMaxScaler()),('KNN', KNeighborsRegressor())])))\n",
    "pipelines.append(('ScaledSVM', Pipeline([('Scaler', MinMaxScaler()),('SVM', SVR())])))\n",
    "pipelines.append(('ScaledDT', Pipeline([('Scaler', MinMaxScaler()),('DT', DecisionTreeRegressor())])))\n",
    "pipelines.append(('ScaledET', Pipeline([('Scaler', MinMaxScaler()),('ET', ExtraTreesRegressor())])))\n",
    "pipelines.append(('ScaledRF', Pipeline([('Scaler', MinMaxScaler()),('RF', RandomForestRegressor())])))\n",
    "results = []\n",
    "names = []\n",
    "n_splits = 5\n",
    "for name, model in pipelines:\n",
    "    kfold = model_selection.KFold(n_splits=n_splits, shuffle=True, random_state=5)\n",
    "    cv_results = model_selection.cross_val_score(model, X, Y, cv=kfold, scoring='r2')\n",
    "    results.append(cv_results)\n",
    "    names.append(name)\n",
    "    \n",
    "results_df = pd.DataFrame(results, index=names,columns='CV1 CV2 CV3 CV4 CV5'.split())\n",
    "results_df['CV Mean'] = results_df.iloc[:,0:n_splits].mean(axis=1)\n",
    "results_df['CV Std Dev'] = results_df.iloc[:,0:n_splits].std(axis=1)\n",
    "results_df.sort_values(by='CV Mean', ascending=False)"
   ]
  },
  {
   "cell_type": "markdown",
   "metadata": {},
   "source": [
    "<a id=\"finalize\"></a>\n",
    "## Finalizing The Model"
   ]
  },
  {
   "cell_type": "code",
   "execution_count": 26,
   "metadata": {},
   "outputs": [],
   "source": [
    "etr=Pipeline([('Scaler', StandardScaler()),('ET', ExtraTreesRegressor())])\n",
    "etr.fit(x_train,y_train)\n",
    "y_pred=etr.predict(x_test)"
   ]
  },
  {
   "cell_type": "code",
   "execution_count": 27,
   "metadata": {},
   "outputs": [
    {
     "data": {
      "text/plain": [
       "1.7714090404600051"
      ]
     },
     "execution_count": 27,
     "metadata": {},
     "output_type": "execute_result"
    }
   ],
   "source": [
    "import math\n",
    "mse=mean_squared_error(y_test,y_pred)\n",
    "rmse=math.sqrt(mse)\n",
    "rmse"
   ]
  },
  {
   "cell_type": "code",
   "execution_count": 28,
   "metadata": {},
   "outputs": [
    {
     "data": {
      "text/plain": [
       "0.9635483479199352"
      ]
     },
     "execution_count": 28,
     "metadata": {},
     "output_type": "execute_result"
    }
   ],
   "source": [
    "r2score=r2_score(y_test,y_pred)\n",
    "r2score"
   ]
  },
  {
   "cell_type": "markdown",
   "metadata": {},
   "source": [
    "<a id=\"savem\"></a>\n",
    "## Saving The Model"
   ]
  },
  {
   "cell_type": "code",
   "execution_count": 29,
   "metadata": {},
   "outputs": [],
   "source": [
    "val_credentials={\n",
    "    \"apikey\": \"D7avXtJApCmX7nHZgVRODCgAeuQO4mDJj4EygUHWim4O\",\n",
    "  \"iam_apikey_description\": \"Auto-generated for key 905255d4-a47b-47d8-bae9-b6fc3ca41ad7\",\n",
    "  \"iam_apikey_name\": \"wdp-writer\",\n",
    "  \"iam_role_crn\": \"crn:v1:bluemix:public:iam::::serviceRole:Writer\",\n",
    "  \"iam_serviceid_crn\": \"crn:v1:bluemix:public:iam-identity::a/50a600213e2b4bc198537f0a78beb930::serviceid:ServiceId-a3cc1823-b56c-4598-a8cd-b66ac75c22ca\",\n",
    "  \"instance_id\": \"203008ea-906b-48ac-aaed-86b2ffe65461\",\n",
    "  \"url\": \"https://eu-gb.ml.cloud.ibm.com\"\n",
    "}"
   ]
  },
  {
   "cell_type": "code",
   "execution_count": 30,
   "metadata": {},
   "outputs": [
    {
     "name": "stderr",
     "output_type": "stream",
     "text": [
      "2020-06-12 11:33:36,944 - watson_machine_learning_client.metanames - WARNING - 'AUTHOR_EMAIL' meta prop is deprecated. It will be ignored.\n"
     ]
    }
   ],
   "source": [
    "from watson_machine_learning_client import WatsonMachineLearningAPIClient\n",
    "client=WatsonMachineLearningAPIClient(val_credentials)\n",
    "model_props = {client.repository.ModelMetaNames.AUTHOR_NAME: \"Shalaka Thorat\",  \n",
    "               client.repository.ModelMetaNames.AUTHOR_EMAIL: \"shalaka.thorat.432@gmail.com\",\n",
    "               client.repository.ModelMetaNames.NAME: \"Python-Regression-Model\"}"
   ]
  },
  {
   "cell_type": "code",
   "execution_count": 31,
   "metadata": {},
   "outputs": [],
   "source": [
    "model_artifact=client.repository.store_model(etr, meta_props=model_props)"
   ]
  },
  {
   "cell_type": "code",
   "execution_count": 32,
   "metadata": {},
   "outputs": [
    {
     "data": {
      "text/plain": [
       "'2956d876-b766-4ce1-b0a9-e21a6413449e'"
      ]
     },
     "execution_count": 32,
     "metadata": {},
     "output_type": "execute_result"
    }
   ],
   "source": [
    "guid=client.repository.get_model_uid(model_artifact)\n",
    "guid"
   ]
  },
  {
   "cell_type": "markdown",
   "metadata": {},
   "source": [
    "<a id=\"deploy\"></a>\n",
    "## Deploying The Model And Creating Scoring Endpoint URL"
   ]
  },
  {
   "cell_type": "code",
   "execution_count": 33,
   "metadata": {},
   "outputs": [
    {
     "name": "stdout",
     "output_type": "stream",
     "text": [
      "\n",
      "\n",
      "#######################################################################################\n",
      "\n",
      "Synchronous deployment creation for uid: '2956d876-b766-4ce1-b0a9-e21a6413449e' started\n",
      "\n",
      "#######################################################################################\n",
      "\n",
      "\n",
      "INITIALIZING\n",
      "DEPLOY_SUCCESS\n",
      "\n",
      "\n",
      "------------------------------------------------------------------------------------------------\n",
      "Successfully finished deployment creation, deployment_uid='63601b6d-4864-459f-8d6e-beb8db75eda6'\n",
      "------------------------------------------------------------------------------------------------\n",
      "\n",
      "\n"
     ]
    },
    {
     "data": {
      "text/plain": [
       "{'metadata': {'guid': '63601b6d-4864-459f-8d6e-beb8db75eda6',\n",
       "  'url': 'https://eu-gb.ml.cloud.ibm.com/v3/wml_instances/203008ea-906b-48ac-aaed-86b2ffe65461/deployments/63601b6d-4864-459f-8d6e-beb8db75eda6',\n",
       "  'created_at': '2020-06-12T11:33:46.312Z',\n",
       "  'modified_at': '2020-06-12T11:33:46.617Z'},\n",
       " 'entity': {'runtime_environment': 'python-3.6',\n",
       "  'name': 'Life-Expectancy-Predictor',\n",
       "  'scoring_url': 'https://eu-gb.ml.cloud.ibm.com/v3/wml_instances/203008ea-906b-48ac-aaed-86b2ffe65461/deployments/63601b6d-4864-459f-8d6e-beb8db75eda6/online',\n",
       "  'deployable_asset': {'name': 'Python-Regression-Model',\n",
       "   'url': 'https://eu-gb.ml.cloud.ibm.com/v3/wml_instances/203008ea-906b-48ac-aaed-86b2ffe65461/published_models/2956d876-b766-4ce1-b0a9-e21a6413449e',\n",
       "   'guid': '2956d876-b766-4ce1-b0a9-e21a6413449e',\n",
       "   'created_at': '2020-06-12T11:33:46.287Z',\n",
       "   'type': 'model'},\n",
       "  'description': 'Description of deployment',\n",
       "  'status_details': {'status': 'DEPLOY_SUCCESS'},\n",
       "  'model_type': 'scikit-learn-0.20',\n",
       "  'status': 'DEPLOY_SUCCESS',\n",
       "  'type': 'online',\n",
       "  'deployed_version': {'url': 'https://eu-gb.ml.cloud.ibm.com/v3/ml_assets/models/2956d876-b766-4ce1-b0a9-e21a6413449e/versions/5604eeb3-a095-4935-a0c0-1e17451b7dc6',\n",
       "   'guid': '5604eeb3-a095-4935-a0c0-1e17451b7dc6'}}}"
      ]
     },
     "execution_count": 33,
     "metadata": {},
     "output_type": "execute_result"
    }
   ],
   "source": [
    "client=WatsonMachineLearningAPIClient(val_credentials)\n",
    "deploy=client.deployments.create(guid,name=\"Life-Expectancy-Predictor\")\n",
    "deploy"
   ]
  },
  {
   "cell_type": "code",
   "execution_count": 34,
   "metadata": {},
   "outputs": [
    {
     "name": "stdout",
     "output_type": "stream",
     "text": [
      "------------------------------------  -------------------------  ------  --------------  ------------------------  -----------------  -------------\n",
      "GUID                                  NAME                       TYPE    STATE           CREATED                   FRAMEWORK          ARTIFACT TYPE\n",
      "63601b6d-4864-459f-8d6e-beb8db75eda6  Life-Expectancy-Predictor  online  DEPLOY_SUCCESS  2020-06-12T11:33:46.312Z  scikit-learn-0.20  model\n",
      "------------------------------------  -------------------------  ------  --------------  ------------------------  -----------------  -------------\n"
     ]
    }
   ],
   "source": [
    "scoring_url=client.deployments.get_scoring_url(deploy)\n",
    "client.deployments.list()"
   ]
  },
  {
   "cell_type": "code",
   "execution_count": null,
   "metadata": {},
   "outputs": [],
   "source": []
  }
 ],
 "metadata": {
  "kernelspec": {
   "display_name": "Python 3",
   "language": "python",
   "name": "python3"
  },
  "language_info": {
   "codemirror_mode": {
    "name": "ipython",
    "version": 3
   },
   "file_extension": ".py",
   "mimetype": "text/x-python",
   "name": "python",
   "nbconvert_exporter": "python",
   "pygments_lexer": "ipython3",
   "version": "3.6.9"
  }
 },
 "nbformat": 4,
 "nbformat_minor": 1
}
